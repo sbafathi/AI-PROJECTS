{
  "nbformat": 4,
  "nbformat_minor": 0,
  "metadata": {
    "colab": {
      "name": "brain tummor ",
      "provenance": [],
      "collapsed_sections": [],
      "mount_file_id": "1OeI9ppMRFfliI8dbs7bSo3m3I1ak_Jqf",
      "authorship_tag": "ABX9TyPDQ8dLXsJCnXVEoNrKo2rr",
      "include_colab_link": true
    },
    "kernelspec": {
      "name": "python3",
      "display_name": "Python 3"
    },
    "language_info": {
      "name": "python"
    }
  },
  "cells": [
    {
      "cell_type": "markdown",
      "metadata": {
        "id": "view-in-github",
        "colab_type": "text"
      },
      "source": [
        "<a href=\"https://colab.research.google.com/github/sbafathi/AI-PROJECTS/blob/main/brain_tummor.ipynb\" target=\"_parent\"><img src=\"https://colab.research.google.com/assets/colab-badge.svg\" alt=\"Open In Colab\"/></a>"
      ]
    },
    {
      "cell_type": "code",
      "metadata": {
        "id": "ahSyza6xNK7S"
      },
      "source": [
        "from google.colab import files\n",
        "files.upload()"
      ],
      "execution_count": null,
      "outputs": []
    },
    {
      "cell_type": "code",
      "metadata": {
        "id": "fYiP5Ic1Phnh"
      },
      "source": [
        "local_dir = '/content/brain_tumor_dataset.zip'"
      ],
      "execution_count": 7,
      "outputs": []
    },
    {
      "cell_type": "code",
      "metadata": {
        "id": "bxWj0NoOQ2Hb"
      },
      "source": [
        "from zipfile import ZipFile"
      ],
      "execution_count": 4,
      "outputs": []
    },
    {
      "cell_type": "code",
      "metadata": {
        "id": "n6B8WFJKQ5OP",
        "colab": {
          "base_uri": "https://localhost:8080/"
        },
        "outputId": "4b50eba5-5946-4606-d0d7-9ed357db3d0d"
      },
      "source": [
        "with ZipFile(local_dir,'r') as zip:\n",
        "  zip.extractall()\n",
        "  print('Done')"
      ],
      "execution_count": 8,
      "outputs": [
        {
          "output_type": "stream",
          "text": [
            "Done\n"
          ],
          "name": "stdout"
        }
      ]
    },
    {
      "cell_type": "code",
      "metadata": {
        "id": "H7yAXQf9R7et"
      },
      "source": [
        "import os"
      ],
      "execution_count": 9,
      "outputs": []
    },
    {
      "cell_type": "code",
      "metadata": {
        "id": "176g69-JRGwL"
      },
      "source": [
        "no_dir = os.path.join('/content/brain_tumor_dataset/no')\n",
        "yes_dir = os.path.join('/content/brain_tumor_dataset/yes')"
      ],
      "execution_count": 10,
      "outputs": []
    },
    {
      "cell_type": "code",
      "metadata": {
        "id": "L3yKieOrSCTi",
        "colab": {
          "base_uri": "https://localhost:8080/"
        },
        "outputId": "289e0407-820a-4cfe-b097-f8c3b857b0b0"
      },
      "source": [
        "print(len(os.listdir(no_dir)))\n",
        "print(len(os.listdir(yes_dir)))"
      ],
      "execution_count": 11,
      "outputs": [
        {
          "output_type": "stream",
          "text": [
            "98\n",
            "155\n"
          ],
          "name": "stdout"
        }
      ]
    },
    {
      "cell_type": "code",
      "metadata": {
        "id": "4ukl1Y0WSL2q"
      },
      "source": [
        "img_width,img_height = 98,98"
      ],
      "execution_count": 12,
      "outputs": []
    },
    {
      "cell_type": "code",
      "metadata": {
        "id": "FbGeHJaRUIbq"
      },
      "source": [
        "img1_width,img_height = 155,155"
      ],
      "execution_count": 13,
      "outputs": []
    },
    {
      "cell_type": "code",
      "metadata": {
        "id": "SdrNC0ziSX93"
      },
      "source": [
        "epochs = 126\n",
        "batch_size = 10"
      ],
      "execution_count": 14,
      "outputs": []
    },
    {
      "cell_type": "code",
      "metadata": {
        "id": "gelAY3yCUnVH"
      },
      "source": [
        "from keras.preprocessing.image import ImageDataGenerator"
      ],
      "execution_count": 15,
      "outputs": []
    },
    {
      "cell_type": "code",
      "metadata": {
        "id": "VW9Jc_E_U9EW"
      },
      "source": [
        "train_datagen = ImageDataGenerator(rescale = 1./255)"
      ],
      "execution_count": 16,
      "outputs": []
    },
    {
      "cell_type": "code",
      "metadata": {
        "id": "G-xOUQazV9pE"
      },
      "source": [
        "test_datagen = ImageDataGenerator(rescale=1./255)"
      ],
      "execution_count": 17,
      "outputs": []
    },
    {
      "cell_type": "code",
      "metadata": {
        "id": "kV1ZVh9FWQOh"
      },
      "source": [
        "no_dir = '/content/brain_tumor_dataset/no'\n",
        "yes_dir = '/content/brain_tumor_dataset/yes'"
      ],
      "execution_count": 18,
      "outputs": []
    },
    {
      "cell_type": "code",
      "metadata": {
        "id": "9Z-9vM2-P4rg"
      },
      "source": [
        "from google.colab import drive\n",
        "drive.mount('/content/drive')"
      ],
      "execution_count": null,
      "outputs": []
    },
    {
      "cell_type": "markdown",
      "metadata": {
        "id": "lhw3gOPAPsTL"
      },
      "source": [
        "# New Section"
      ]
    },
    {
      "cell_type": "code",
      "metadata": {
        "id": "vC3hcJ_4XmAb"
      },
      "source": [
        "dir = '/content/brain_tumor_dataset'"
      ],
      "execution_count": 21,
      "outputs": []
    },
    {
      "cell_type": "code",
      "metadata": {
        "id": "mAR3z7H1hENh"
      },
      "source": [
        "train_datagen = ImageDataGenerator(rescale = 1./255)\n",
        "test_datagen = ImageDataGenerator(rescale = 1./255)"
      ],
      "execution_count": 19,
      "outputs": []
    },
    {
      "cell_type": "code",
      "metadata": {
        "id": "kA39xlfEw7G-",
        "colab": {
          "base_uri": "https://localhost:8080/"
        },
        "outputId": "f040ff1a-830c-4e68-f174-1289c190f15e"
      },
      "source": [
        "test_dataset = test_datagen.flow_from_directory(dir ,target_size=(200,200),batch_size = 3,class_mode = 'binary')"
      ],
      "execution_count": 22,
      "outputs": [
        {
          "output_type": "stream",
          "text": [
            "Found 253 images belonging to 2 classes.\n"
          ],
          "name": "stdout"
        }
      ]
    },
    {
      "cell_type": "code",
      "metadata": {
        "id": "I3lx4FCEhSxX",
        "colab": {
          "base_uri": "https://localhost:8080/"
        },
        "outputId": "16d769a1-cbc3-4d8a-97a5-66d0a1e8a49b"
      },
      "source": [
        "train_dataset = train_datagen.flow_from_directory(dir,target_size = (200,200),batch_size = 3,class_mode = 'categorical')"
      ],
      "execution_count": 23,
      "outputs": [
        {
          "output_type": "stream",
          "text": [
            "Found 253 images belonging to 2 classes.\n"
          ],
          "name": "stdout"
        }
      ]
    },
    {
      "cell_type": "code",
      "metadata": {
        "id": "u7oaX9ObwuOH"
      },
      "source": [
        ""
      ],
      "execution_count": null,
      "outputs": []
    },
    {
      "cell_type": "code",
      "metadata": {
        "id": "uypCU53DhnM1"
      },
      "source": [
        "from google.colab import files\n",
        "files.upload()"
      ],
      "execution_count": null,
      "outputs": []
    },
    {
      "cell_type": "code",
      "metadata": {
        "id": "FPxbgwR4wYyj",
        "colab": {
          "base_uri": "https://localhost:8080/"
        },
        "outputId": "4c70d6fd-7c95-413a-a0a2-f178424fba66"
      },
      "source": [
        "test_datagen = test_datagen.flow_from_directory(dir,target_size = (200,200),batch_size = 3,class_mode = 'categorical')"
      ],
      "execution_count": 24,
      "outputs": [
        {
          "output_type": "stream",
          "text": [
            "Found 253 images belonging to 2 classes.\n"
          ],
          "name": "stdout"
        }
      ]
    },
    {
      "cell_type": "code",
      "metadata": {
        "id": "9hHJ0podte1R"
      },
      "source": [
        "local_dir = '/content/brain_tumor_dataset (2).zip'"
      ],
      "execution_count": null,
      "outputs": []
    },
    {
      "cell_type": "code",
      "metadata": {
        "id": "lT3BLFeytB2m"
      },
      "source": [
        "with ZipFile(local_dir,'r') as zip:\n",
        "  zip.extractall()\n",
        "  print('Done')"
      ],
      "execution_count": null,
      "outputs": []
    },
    {
      "cell_type": "code",
      "metadata": {
        "id": "l18nky2VuYOj"
      },
      "source": [
        ""
      ],
      "execution_count": null,
      "outputs": []
    },
    {
      "cell_type": "code",
      "metadata": {
        "id": "IK_kM2lGh2yP",
        "colab": {
          "base_uri": "https://localhost:8080/"
        },
        "outputId": "4751281e-07bf-44b3-b649-84283b4d3d56"
      },
      "source": [
        "train_dataset.class_indices"
      ],
      "execution_count": 25,
      "outputs": [
        {
          "output_type": "execute_result",
          "data": {
            "text/plain": [
              "{'no': 0, 'yes': 1}"
            ]
          },
          "metadata": {
            "tags": []
          },
          "execution_count": 25
        }
      ]
    },
    {
      "cell_type": "code",
      "metadata": {
        "id": "3SBUmTQOiRXp",
        "colab": {
          "base_uri": "https://localhost:8080/"
        },
        "outputId": "5a70f48b-358f-4b93-993f-7e20dde8a4f7"
      },
      "source": [
        "train_dataset.classes"
      ],
      "execution_count": 26,
      "outputs": [
        {
          "output_type": "execute_result",
          "data": {
            "text/plain": [
              "array([0, 0, 0, 0, 0, 0, 0, 0, 0, 0, 0, 0, 0, 0, 0, 0, 0, 0, 0, 0, 0, 0,\n",
              "       0, 0, 0, 0, 0, 0, 0, 0, 0, 0, 0, 0, 0, 0, 0, 0, 0, 0, 0, 0, 0, 0,\n",
              "       0, 0, 0, 0, 0, 0, 0, 0, 0, 0, 0, 0, 0, 0, 0, 0, 0, 0, 0, 0, 0, 0,\n",
              "       0, 0, 0, 0, 0, 0, 0, 0, 0, 0, 0, 0, 0, 0, 0, 0, 0, 0, 0, 0, 0, 0,\n",
              "       0, 0, 0, 0, 0, 0, 0, 0, 0, 0, 1, 1, 1, 1, 1, 1, 1, 1, 1, 1, 1, 1,\n",
              "       1, 1, 1, 1, 1, 1, 1, 1, 1, 1, 1, 1, 1, 1, 1, 1, 1, 1, 1, 1, 1, 1,\n",
              "       1, 1, 1, 1, 1, 1, 1, 1, 1, 1, 1, 1, 1, 1, 1, 1, 1, 1, 1, 1, 1, 1,\n",
              "       1, 1, 1, 1, 1, 1, 1, 1, 1, 1, 1, 1, 1, 1, 1, 1, 1, 1, 1, 1, 1, 1,\n",
              "       1, 1, 1, 1, 1, 1, 1, 1, 1, 1, 1, 1, 1, 1, 1, 1, 1, 1, 1, 1, 1, 1,\n",
              "       1, 1, 1, 1, 1, 1, 1, 1, 1, 1, 1, 1, 1, 1, 1, 1, 1, 1, 1, 1, 1, 1,\n",
              "       1, 1, 1, 1, 1, 1, 1, 1, 1, 1, 1, 1, 1, 1, 1, 1, 1, 1, 1, 1, 1, 1,\n",
              "       1, 1, 1, 1, 1, 1, 1, 1, 1, 1, 1], dtype=int32)"
            ]
          },
          "metadata": {
            "tags": []
          },
          "execution_count": 26
        }
      ]
    },
    {
      "cell_type": "code",
      "metadata": {
        "id": "P6MiT7oOo-E-"
      },
      "source": [
        "import tensorflow as tf\n"
      ],
      "execution_count": 27,
      "outputs": []
    },
    {
      "cell_type": "code",
      "metadata": {
        "id": "jcFcxqPLiXh4"
      },
      "source": [
        "model = tf.keras.models.Sequential([\n",
        "       tf.keras.layers.Conv2D(16,(3,3),activation = 'relu',input_shape = (200,200,3)),\n",
        "       tf.keras.layers.MaxPooling2D(2,2),\n",
        "       tf.keras.layers.Conv2D(32,(3,3),activation = 'relu'),\n",
        "       tf.keras.layers.MaxPooling2D(2,2),\n",
        "       tf.keras.layers.Flatten(),\n",
        "       tf.keras.layers.Dense(512,activation = 'relu'),\n",
        "       tf.keras.layers.Dense(1,activation = 'sigmoid')\n",
        "])"
      ],
      "execution_count": 28,
      "outputs": []
    },
    {
      "cell_type": "code",
      "metadata": {
        "id": "_WoOHvnRmLQo",
        "colab": {
          "base_uri": "https://localhost:8080/"
        },
        "outputId": "febe1f00-ec14-4250-dd86-c95095c386a9"
      },
      "source": [
        "model.compile(loss = 'mean_squared_error',optimizer = 'adam',metrics = ['accuracy'])\n",
        "model.fit(train_dataset,steps_per_epoch = 3,epochs = 10,validation_data = test_dataset,batch_size=126)"
      ],
      "execution_count": 29,
      "outputs": [
        {
          "output_type": "stream",
          "text": [
            "Epoch 1/10\n",
            "3/3 [==============================] - 9s 3s/step - loss: 0.4167 - accuracy: 0.5000 - val_loss: 0.6126 - val_accuracy: 0.3874\n",
            "Epoch 2/10\n",
            "3/3 [==============================] - 7s 3s/step - loss: 0.5000 - accuracy: 0.5000 - val_loss: 0.6126 - val_accuracy: 0.3874\n",
            "Epoch 3/10\n",
            "3/3 [==============================] - 8s 3s/step - loss: 0.5000 - accuracy: 0.5000 - val_loss: 0.6126 - val_accuracy: 0.3874\n",
            "Epoch 4/10\n",
            "3/3 [==============================] - 7s 3s/step - loss: 0.5000 - accuracy: 0.5000 - val_loss: 0.6126 - val_accuracy: 0.3874\n",
            "Epoch 5/10\n",
            "3/3 [==============================] - 7s 3s/step - loss: 0.5000 - accuracy: 0.5000 - val_loss: 0.6126 - val_accuracy: 0.3874\n",
            "Epoch 6/10\n",
            "3/3 [==============================] - 7s 3s/step - loss: 0.5000 - accuracy: 0.5000 - val_loss: 0.6126 - val_accuracy: 0.3874\n",
            "Epoch 7/10\n",
            "3/3 [==============================] - 8s 3s/step - loss: 0.5000 - accuracy: 0.5000 - val_loss: 0.6126 - val_accuracy: 0.3874\n",
            "Epoch 8/10\n",
            "3/3 [==============================] - 7s 3s/step - loss: 0.5000 - accuracy: 0.5000 - val_loss: 0.6126 - val_accuracy: 0.3874\n",
            "Epoch 9/10\n",
            "3/3 [==============================] - 8s 3s/step - loss: 0.5000 - accuracy: 0.5000 - val_loss: 0.6126 - val_accuracy: 0.3874\n",
            "Epoch 10/10\n",
            "3/3 [==============================] - 7s 3s/step - loss: 0.5000 - accuracy: 0.5000 - val_loss: 0.6126 - val_accuracy: 0.3874\n"
          ],
          "name": "stdout"
        },
        {
          "output_type": "execute_result",
          "data": {
            "text/plain": [
              "<tensorflow.python.keras.callbacks.History at 0x7f09b2088390>"
            ]
          },
          "metadata": {
            "tags": []
          },
          "execution_count": 29
        }
      ]
    },
    {
      "cell_type": "code",
      "metadata": {
        "id": "-xSasAZFNmb1"
      },
      "source": [
        "import pandas as pd\n",
        "import numpy as np\n",
        "from zipfile import ZipFile\n",
        "import tensorflow as tf\n",
        "from tensorflow import keras\n",
        "from keras import layers\n",
        "from keras.layers import Conv2D,Flatten,"
      ],
      "execution_count": null,
      "outputs": []
    }
  ]
}