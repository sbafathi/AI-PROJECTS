{
  "nbformat": 4,
  "nbformat_minor": 0,
  "metadata": {
    "colab": {
      "name": "Apple Stock Market Prediction",
      "private_outputs": true,
      "provenance": [],
      "authorship_tag": "ABX9TyPB8bSmmNKBEJq4MYw68eFE",
      "include_colab_link": true
    },
    "kernelspec": {
      "name": "python3",
      "display_name": "Python 3"
    },
    "language_info": {
      "name": "python"
    }
  },
  "cells": [
    {
      "cell_type": "markdown",
      "metadata": {
        "id": "view-in-github",
        "colab_type": "text"
      },
      "source": [
        "<a href=\"https://colab.research.google.com/github/sbafathi/AI-PROJECTS/blob/main/Apple_Stock_Market_Prediction.ipynb\" target=\"_parent\"><img src=\"https://colab.research.google.com/assets/colab-badge.svg\" alt=\"Open In Colab\"/></a>"
      ]
    },
    {
      "cell_type": "code",
      "execution_count": null,
      "metadata": {
        "id": "7bHeK26Knmi4"
      },
      "outputs": [],
      "source": [
        "import pandas as pd\n",
        "import numpy as np\n",
        "import matplotlib.pyplot as plt\n",
        "import tensorflow as tf\n",
        "from tensorflow import keras\n",
        "import sklearn\n",
        "from sklearn.preprocessing import MinMaxScaler\n",
        "from sklearn.metrics import mean_squared_error\n",
        "from keras.models import Sequential\n"
      ]
    },
    {
      "cell_type": "code",
      "source": [
        "from google.colab import files\n",
        "files.upload()"
      ],
      "metadata": {
        "id": "iYTrDqz5p28S"
      },
      "execution_count": null,
      "outputs": []
    },
    {
      "cell_type": "code",
      "source": [
        "aapl = pd.read_csv('AAPL.csv')\n",
        "aapl.head()"
      ],
      "metadata": {
        "id": "4dfSq10JqApE"
      },
      "execution_count": null,
      "outputs": []
    },
    {
      "cell_type": "code",
      "source": [
        "aapl.isna().sum()"
      ],
      "metadata": {
        "id": "2yxJS4vSq_0N"
      },
      "execution_count": null,
      "outputs": []
    },
    {
      "cell_type": "code",
      "source": [
        "import pandas as pd\n",
        "import matplotlib.pyplot as plt\n",
        "import plotly.express as px"
      ],
      "metadata": {
        "id": "60HeLjyxxc36"
      },
      "execution_count": null,
      "outputs": []
    },
    {
      "cell_type": "code",
      "source": [
        "aapl.head(4)"
      ],
      "metadata": {
        "id": "HtII0CKK0LqY"
      },
      "execution_count": null,
      "outputs": []
    },
    {
      "cell_type": "code",
      "source": [
        "obs = np.arange(1,len(aapl)+1,1)"
      ],
      "metadata": {
        "id": "HyKkOlLBAEXn"
      },
      "execution_count": null,
      "outputs": []
    },
    {
      "cell_type": "code",
      "source": [
        "aapl = aapl.reindex(index = aapl.index[::-1])\n",
        "aaple_stock_mean = aapl.mean(axis = 1)\n",
        "hlc = aapl[['High','Low','Close']].mean(axis = 1)\n",
        "close = aapl['Close']"
      ],
      "metadata": {
        "id": "26UCn_JwBC5w"
      },
      "execution_count": null,
      "outputs": []
    },
    {
      "cell_type": "code",
      "source": [
        "import plotly.express as px"
      ],
      "metadata": {
        "id": "E7F4ZQiXCWc3"
      },
      "execution_count": null,
      "outputs": []
    },
    {
      "cell_type": "code",
      "source": [
        "aapl['Date'] = pd.to_datetime(aapl['Date'],format = \"%Y-%m-%d\")\n",
        "aapl.index = aapl['Date']\n",
        "plt.figure(figsize = (16,8))\n",
        "plt.plot(aapl['Close'],label = 'Close Price History')\n",
        "plt.xlabel('YEAR OF THE CLOSING PRICE')\n",
        "plt.ylabel('CLOSING PRICE OF THE STOCK PRICE')\n",
        "plt.title('YEAR&CLOSING PRICE OF THE STOCKS IN THE MARKET')"
      ],
      "metadata": {
        "id": "RsSyL-pgEQbe"
      },
      "execution_count": null,
      "outputs": []
    },
    {
      "cell_type": "code",
      "source": [
        "aapl['Date'] = pd.to_datetime(aapl['Date'],format = \"%Y-%m-%d\")\n",
        "aapl.index = aapl['Date']\n",
        "plt.figure(figsize = (16,8))\n",
        "plt.plot(aapl['High'],label = 'High',color = 'red')\n",
        "plt.plot(aapl['Low'],label = 'Low',color = 'yellow')\n",
        "plt.plot(aapl['Close'],label = 'Close',color = 'blue')\n",
        "plt.title('THIS IS THE VISUALIZATION OF THE STOCK PRICES WHEN THEY ARE LOW,HIGH,CLOSEE')\n",
        "plt.legend()\n",
        "plt.grid(True)\n"
      ],
      "metadata": {
        "id": "z3wn1UQnFwoL"
      },
      "execution_count": null,
      "outputs": []
    },
    {
      "cell_type": "code",
      "source": [
        "data = aapl.filter(['Close'])\n",
        "dataset = data.values\n",
        "len(dataset)"
      ],
      "metadata": {
        "id": "ODlguRuZO0LX"
      },
      "execution_count": null,
      "outputs": []
    },
    {
      "cell_type": "code",
      "source": [
        "import math"
      ],
      "metadata": {
        "id": "CsO3V4JgPNqT"
      },
      "execution_count": null,
      "outputs": []
    },
    {
      "cell_type": "code",
      "source": [
        "training_data = math.ceil(len(dataset)*7)\n",
        "training_data"
      ],
      "metadata": {
        "id": "5NP3-kMsPL2p"
      },
      "execution_count": null,
      "outputs": []
    },
    {
      "cell_type": "code",
      "source": [
        "scaler = MinMaxScaler(feature_range=(0,1))\n",
        "scaled_data = scaler.fit_transform(dataset)\n",
        "print(scaled_data)"
      ],
      "metadata": {
        "id": "qqTnZ83xPjvx"
      },
      "execution_count": null,
      "outputs": []
    },
    {
      "cell_type": "code",
      "source": [
        "x_train= dataset\n",
        "y_train = dataset"
      ],
      "metadata": {
        "id": "k4ymVONESBtg"
      },
      "execution_count": null,
      "outputs": []
    },
    {
      "cell_type": "code",
      "source": [
        "x_train = np.array(x_train)\n",
        "y_train = np.array(y_train)\n",
        "x_train = np.reshape(x_train,(x_train.shape[0],x_train.shape[1],1))\n",
        "y_train = np.reshape(y_train,(y_train.shape[0],y_train.shape[1],1))"
      ],
      "metadata": {
        "id": "l6fVNZ7BSKbH"
      },
      "execution_count": null,
      "outputs": []
    },
    {
      "cell_type": "code",
      "source": [
        "print(x_train.shape)\n",
        "print(y_train.shape)"
      ],
      "metadata": {
        "id": "ypWUN2vLTf6L"
      },
      "execution_count": null,
      "outputs": []
    },
    {
      "cell_type": "code",
      "source": [
        "from keras.layers import LSTM\n",
        "from keras.layers import Dense"
      ],
      "metadata": {
        "id": "kPmAjsvHFXy4"
      },
      "execution_count": null,
      "outputs": []
    },
    {
      "cell_type": "code",
      "source": [
        "model = Sequential()\n",
        "model.add(LSTM(50,return_sequences = True,input_shape = (x_train.shape[1],1)))\n",
        "model.add(LSTM(50,return_sequences = False))\n",
        "model.add(Dense(25))\n",
        "model.add(Dense(1))\n"
      ],
      "metadata": {
        "id": "ucnMbzeUFfpL"
      },
      "execution_count": null,
      "outputs": []
    },
    {
      "cell_type": "code",
      "source": [
        "model.compile(optimizer = 'adam',loss = 'mean_squared_error')"
      ],
      "metadata": {
        "id": "5AbRYMWyOz3m"
      },
      "execution_count": null,
      "outputs": []
    },
    {
      "cell_type": "code",
      "source": [
        "model.fit(x_train,y_train,batch_size = 1,epochs = 1)"
      ],
      "metadata": {
        "id": "HSqra0gBPqnR"
      },
      "execution_count": null,
      "outputs": []
    },
    {
      "cell_type": "code",
      "source": [
        ""
      ],
      "metadata": {
        "id": "df6u4MQqXhyb"
      },
      "execution_count": null,
      "outputs": []
    },
    {
      "cell_type": "code",
      "source": [
        "test_data = scaled_data\n",
        "x_test = []\n",
        "for i in range(10,len(test_data)):\n",
        "  x_test.append(test_data[i-60])\n",
        "print(test_data)\n",
        "x_test = np.array(x_test)\n",
        "x_test = np.reshape(x_test,(x_test.shape[0],x_test.shape[1],1))\n",
        "y_test = test_data\n",
        "y_test = np.array(y_test)\n"
      ],
      "metadata": {
        "id": "uwFVBd-OQExS"
      },
      "execution_count": null,
      "outputs": []
    },
    {
      "cell_type": "code",
      "source": [
        "y_test = x_test"
      ],
      "metadata": {
        "id": "-kUwWj6tnyI8"
      },
      "execution_count": null,
      "outputs": []
    },
    {
      "cell_type": "code",
      "source": [
        "predictions = model.predict(x_test)\n",
        "predictions = scaler.inverse_transform(predictions)"
      ],
      "metadata": {
        "id": "KI5Ei3J9gZvR"
      },
      "execution_count": null,
      "outputs": []
    },
    {
      "cell_type": "code",
      "source": [
        "rmse = np.sqrt(np.mean(predictions - y_test))\n",
        "print(rmse)"
      ],
      "metadata": {
        "id": "bkJqNeXTkk2y"
      },
      "execution_count": null,
      "outputs": []
    },
    {
      "cell_type": "code",
      "source": [
        "aapl['Date'] = pd.to_datetime(aapl['Date'],format =\"%Y-%m-%d\")\n",
        "aapl.index = aapl['Date']\n",
        "plt.figure(figsize = (16,8))\n",
        "plt.plot(predictions)\n",
        "plt.legend()\n",
        "plt.title('THE PREDICTED CLOSSING PRICE OF THE STOCK MARKET')\n",
        "plt.grid(True)"
      ],
      "metadata": {
        "id": "d2abrVSos7Do"
      },
      "execution_count": null,
      "outputs": []
    }
  ]
}