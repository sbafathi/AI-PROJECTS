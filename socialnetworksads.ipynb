{
  "nbformat": 4,
  "nbformat_minor": 0,
  "metadata": {
    "colab": {
      "name": "socialnetworksads",
      "private_outputs": true,
      "provenance": [],
      "authorship_tag": "ABX9TyNp9YLsNSy5NP6KGGWV2Ax3",
      "include_colab_link": true
    },
    "kernelspec": {
      "name": "python3",
      "display_name": "Python 3"
    }
  },
  "cells": [
    {
      "cell_type": "markdown",
      "metadata": {
        "id": "view-in-github",
        "colab_type": "text"
      },
      "source": [
        "<a href=\"https://colab.research.google.com/github/sbafathi/AI-PROJECTS/blob/main/socialnetworksads.ipynb\" target=\"_parent\"><img src=\"https://colab.research.google.com/assets/colab-badge.svg\" alt=\"Open In Colab\"/></a>"
      ]
    },
    {
      "cell_type": "code",
      "metadata": {
        "id": "i8m3uiWvVeGp"
      },
      "source": [
        "import pandas as pd\n",
        "import numpy as np\n",
        "import matplotlib.pyplot as plt\n",
        "import seaborn as sns\n",
        "import sklearn\n",
        "from sklearn.model_selection import train_test_split\n",
        "from sklearn.linear_model import LogisticRegression"
      ],
      "execution_count": null,
      "outputs": []
    },
    {
      "cell_type": "code",
      "metadata": {
        "id": "S1FE0JgGWXzp"
      },
      "source": [
        "from google.colab import files\n",
        "files.upload()"
      ],
      "execution_count": null,
      "outputs": []
    },
    {
      "cell_type": "code",
      "metadata": {
        "id": "gg63M1CEWqEn"
      },
      "source": [
        "scs =  pd.read_csv('Socialnetworkads.csv')\n",
        "scs.head()"
      ],
      "execution_count": null,
      "outputs": []
    },
    {
      "cell_type": "code",
      "metadata": {
        "id": "IvFEauzVWzoX"
      },
      "source": [
        "scs.dropna()"
      ],
      "execution_count": null,
      "outputs": []
    },
    {
      "cell_type": "code",
      "metadata": {
        "id": "PorPWL9CW-0P"
      },
      "source": [
        "scs.isna()"
      ],
      "execution_count": null,
      "outputs": []
    },
    {
      "cell_type": "code",
      "metadata": {
        "id": "YLGGl4VJXEcc"
      },
      "source": [
        "scs.isna().sum()"
      ],
      "execution_count": null,
      "outputs": []
    },
    {
      "cell_type": "code",
      "metadata": {
        "id": "WcXNiMBqXIyB"
      },
      "source": [
        "scs.shape"
      ],
      "execution_count": null,
      "outputs": []
    },
    {
      "cell_type": "code",
      "metadata": {
        "id": "4pu5BFe8XYIi"
      },
      "source": [
        "scs.EstimatedSalary.value_counts()"
      ],
      "execution_count": null,
      "outputs": []
    },
    {
      "cell_type": "code",
      "metadata": {
        "id": "_bOBCtggXjK5"
      },
      "source": [
        "scs1 = scs.drop(['User ID'],axis =1)"
      ],
      "execution_count": null,
      "outputs": []
    },
    {
      "cell_type": "code",
      "metadata": {
        "id": "8fpQj_qRXq7i"
      },
      "source": [
        "scs1"
      ],
      "execution_count": null,
      "outputs": []
    },
    {
      "cell_type": "code",
      "metadata": {
        "id": "vTUt7riDXuFZ"
      },
      "source": [
        "def age_aprrox(cols):\n",
        "  Age = cols[0]\n",
        "  EstimatedSalary = cols[1]\n",
        "\n",
        "  if pd.isnull(Age):\n",
        "    if EstimatedSalary == 1:\n",
        "      return 46\n",
        "    elif  EstimatedSalary == 2:\n",
        "      return 51\n",
        "    else:\n",
        "      return 50\n",
        "  else:\n",
        "    return Age        "
      ],
      "execution_count": null,
      "outputs": []
    },
    {
      "cell_type": "code",
      "metadata": {
        "id": "Rr3mCVwjjMzR"
      },
      "source": [
        "scs.groupby(['EstimatedSalary']).mean()"
      ],
      "execution_count": null,
      "outputs": []
    },
    {
      "cell_type": "code",
      "metadata": {
        "id": "orpS99bbiGEg"
      },
      "source": [
        "scs['Age'] = scs[['Age','EstimatedSalary']].apply(age_approx,axis = 1)"
      ],
      "execution_count": null,
      "outputs": []
    },
    {
      "cell_type": "code",
      "metadata": {
        "id": "Kd8m_7RrjrHs"
      },
      "source": [
        "scs.dropna(inplace=True)"
      ],
      "execution_count": null,
      "outputs": []
    },
    {
      "cell_type": "code",
      "metadata": {
        "id": "A-8ezr-ej2eL"
      },
      "source": [
        "scs.isnull().sum()"
      ],
      "execution_count": null,
      "outputs": []
    },
    {
      "cell_type": "code",
      "metadata": {
        "id": "KVirbd-oj6LW"
      },
      "source": [
        "x = scs.iloc[:,2].values"
      ],
      "execution_count": null,
      "outputs": []
    },
    {
      "cell_type": "code",
      "metadata": {
        "id": "PhfOOO2Bj6BI"
      },
      "source": [
        "y = scs.iloc[:,3].values"
      ],
      "execution_count": null,
      "outputs": []
    },
    {
      "cell_type": "code",
      "metadata": {
        "id": "MICdHUmpksss"
      },
      "source": [
        "x1 = x.reshape(-1,1)\n",
        "y1 = y.reshape(-1,1)"
      ],
      "execution_count": null,
      "outputs": []
    },
    {
      "cell_type": "code",
      "metadata": {
        "id": "TnaC2H9Wkb9q"
      },
      "source": [
        "from sklearn.linear_model import LogisticRegression"
      ],
      "execution_count": null,
      "outputs": []
    },
    {
      "cell_type": "code",
      "metadata": {
        "id": "dU67ysQskiGR"
      },
      "source": [
        "lr = LogisticRegression()"
      ],
      "execution_count": null,
      "outputs": []
    },
    {
      "cell_type": "code",
      "metadata": {
        "id": "JHWN8DLoknqN"
      },
      "source": [
        "lr.fit(x1,y1)"
      ],
      "execution_count": null,
      "outputs": []
    },
    {
      "cell_type": "code",
      "metadata": {
        "id": "8-_59qNzk80S"
      },
      "source": [
        "import matplotlib.pyplot as plt\n"
      ],
      "execution_count": null,
      "outputs": []
    },
    {
      "cell_type": "code",
      "metadata": {
        "id": "P8CJgUtFmREk"
      },
      "source": [
        "x = scs[['Age','Purchased']]"
      ],
      "execution_count": null,
      "outputs": []
    },
    {
      "cell_type": "code",
      "metadata": {
        "id": "0nxf41onmCn8"
      },
      "source": [
        "plt.figure(figsize=(16,9))\n",
        "sns.heatmap(x.corr())"
      ],
      "execution_count": null,
      "outputs": []
    },
    {
      "cell_type": "code",
      "metadata": {
        "id": "NEvMvTyumarK"
      },
      "source": [
        "y_pred = lr.predict(x1)"
      ],
      "execution_count": null,
      "outputs": []
    },
    {
      "cell_type": "code",
      "metadata": {
        "id": "O4vbNU_6oiRd"
      },
      "source": [
        "from sklearn.metrics import confusion_matrix,accuracy_score,precision_score,f1_score\n",
        "from sklearn import metrics"
      ],
      "execution_count": null,
      "outputs": []
    },
    {
      "cell_type": "code",
      "metadata": {
        "id": "idbmDIEmo7sB"
      },
      "source": [
        "metrics.confusion_matrix(y1,y_pred)"
      ],
      "execution_count": null,
      "outputs": []
    }
  ]
}